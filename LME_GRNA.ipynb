{
 "cells": [
  {
   "cell_type": "markdown",
   "metadata": {},
   "source": [
    "GRNA Linear Mixed Effect model analysis code\n",
    "Jinkook Yu\n",
    "last edited : 2023 . 10 . 23\n",
    "todo\n",
    "1) first-order preprocessing : input block column & remove over 3SD RTs\n",
    "2) discriptive plot"
   ]
  },
  {
   "cell_type": "code",
   "execution_count": 121,
   "metadata": {},
   "outputs": [],
   "source": [
    "# Importing necessary libraries\n",
    "import os\n",
    "import statsmodels.api as sm\n",
    "import statsmodels.formula.api as smf\n",
    "import pandas as pd\n",
    "import matplotlib.pyplot as plt\n",
    "import seaborn as sns\n",
    "import scipy.stats as stats"
   ]
  },
  {
   "cell_type": "code",
   "execution_count": 58,
   "metadata": {},
   "outputs": [
    {
     "name": "stdout",
     "output_type": "stream",
     "text": [
      "2    96\n",
      "0    64\n",
      "1    32\n",
      "Name: condition, dtype: int64\n"
     ]
    }
   ],
   "source": [
    "file = pd.read_csv('./results/GRNA_2_2_2023_10_27_17_22_4.csv',  header = None)\n",
    "file.columns = ['subject_id', 'trial', 'condition', 'resp', 'RT', 'corr']\n",
    "full_values = file['condition'].value_counts()\n",
    "print(full_values)"
   ]
  },
  {
   "cell_type": "code",
   "execution_count": 75,
   "metadata": {},
   "outputs": [
    {
     "name": "stdout",
     "output_type": "stream",
     "text": [
      "nan\n"
     ]
    }
   ],
   "source": [
    "drop_idx = file[(file['condition'] == 2) | (file['corr'] == 0)].index\n",
    "file = file.drop(drop_idx)\n",
    "drop_values = file['condition'].value_counts()\n",
    "\n",
    "mean = file['RT'].mean()\n",
    "std_dev = file['RT'].std()\n",
    "\n",
    "# Creating a boolean mask to identify non-outliers\n",
    "non_outliers = (file['RT'] >= mean - 3*std_dev) & (file['RT'] <= mean + 3*std_dev)\n",
    "\n",
    "# Using the boolean mask to filter the dataframe\n",
    "file = file[non_outliers]"
   ]
  },
  {
   "cell_type": "code",
   "execution_count": 53,
   "metadata": {},
   "outputs": [
    {
     "data": {
      "text/html": [
       "<div>\n",
       "<style scoped>\n",
       "    .dataframe tbody tr th:only-of-type {\n",
       "        vertical-align: middle;\n",
       "    }\n",
       "\n",
       "    .dataframe tbody tr th {\n",
       "        vertical-align: top;\n",
       "    }\n",
       "\n",
       "    .dataframe thead th {\n",
       "        text-align: right;\n",
       "    }\n",
       "</style>\n",
       "<table border=\"1\" class=\"dataframe\">\n",
       "  <thead>\n",
       "    <tr style=\"text-align: right;\">\n",
       "      <th></th>\n",
       "      <th>subject_id</th>\n",
       "      <th>trial</th>\n",
       "      <th>condition</th>\n",
       "      <th>resp</th>\n",
       "      <th>RT</th>\n",
       "      <th>corr</th>\n",
       "    </tr>\n",
       "  </thead>\n",
       "  <tbody>\n",
       "    <tr>\n",
       "      <th>2</th>\n",
       "      <td>4</td>\n",
       "      <td>3</td>\n",
       "      <td>0</td>\n",
       "      <td>2</td>\n",
       "      <td>0.98040</td>\n",
       "      <td>1</td>\n",
       "    </tr>\n",
       "    <tr>\n",
       "      <th>3</th>\n",
       "      <td>4</td>\n",
       "      <td>4</td>\n",
       "      <td>1</td>\n",
       "      <td>2</td>\n",
       "      <td>0.55840</td>\n",
       "      <td>1</td>\n",
       "    </tr>\n",
       "    <tr>\n",
       "      <th>5</th>\n",
       "      <td>4</td>\n",
       "      <td>6</td>\n",
       "      <td>0</td>\n",
       "      <td>2</td>\n",
       "      <td>0.58528</td>\n",
       "      <td>1</td>\n",
       "    </tr>\n",
       "    <tr>\n",
       "      <th>10</th>\n",
       "      <td>4</td>\n",
       "      <td>11</td>\n",
       "      <td>0</td>\n",
       "      <td>2</td>\n",
       "      <td>0.65853</td>\n",
       "      <td>1</td>\n",
       "    </tr>\n",
       "    <tr>\n",
       "      <th>11</th>\n",
       "      <td>4</td>\n",
       "      <td>12</td>\n",
       "      <td>1</td>\n",
       "      <td>2</td>\n",
       "      <td>1.05740</td>\n",
       "      <td>1</td>\n",
       "    </tr>\n",
       "    <tr>\n",
       "      <th>...</th>\n",
       "      <td>...</td>\n",
       "      <td>...</td>\n",
       "      <td>...</td>\n",
       "      <td>...</td>\n",
       "      <td>...</td>\n",
       "      <td>...</td>\n",
       "    </tr>\n",
       "    <tr>\n",
       "      <th>175</th>\n",
       "      <td>4</td>\n",
       "      <td>176</td>\n",
       "      <td>0</td>\n",
       "      <td>2</td>\n",
       "      <td>0.44159</td>\n",
       "      <td>1</td>\n",
       "    </tr>\n",
       "    <tr>\n",
       "      <th>176</th>\n",
       "      <td>4</td>\n",
       "      <td>177</td>\n",
       "      <td>0</td>\n",
       "      <td>2</td>\n",
       "      <td>0.52876</td>\n",
       "      <td>1</td>\n",
       "    </tr>\n",
       "    <tr>\n",
       "      <th>180</th>\n",
       "      <td>4</td>\n",
       "      <td>181</td>\n",
       "      <td>1</td>\n",
       "      <td>2</td>\n",
       "      <td>0.52081</td>\n",
       "      <td>1</td>\n",
       "    </tr>\n",
       "    <tr>\n",
       "      <th>187</th>\n",
       "      <td>4</td>\n",
       "      <td>188</td>\n",
       "      <td>0</td>\n",
       "      <td>2</td>\n",
       "      <td>0.41441</td>\n",
       "      <td>1</td>\n",
       "    </tr>\n",
       "    <tr>\n",
       "      <th>188</th>\n",
       "      <td>4</td>\n",
       "      <td>189</td>\n",
       "      <td>0</td>\n",
       "      <td>2</td>\n",
       "      <td>0.50323</td>\n",
       "      <td>1</td>\n",
       "    </tr>\n",
       "  </tbody>\n",
       "</table>\n",
       "<p>84 rows × 6 columns</p>\n",
       "</div>"
      ],
      "text/plain": [
       "     subject_id  trial  condition  resp       RT  corr\n",
       "2             4      3          0     2  0.98040     1\n",
       "3             4      4          1     2  0.55840     1\n",
       "5             4      6          0     2  0.58528     1\n",
       "10            4     11          0     2  0.65853     1\n",
       "11            4     12          1     2  1.05740     1\n",
       "..          ...    ...        ...   ...      ...   ...\n",
       "175           4    176          0     2  0.44159     1\n",
       "176           4    177          0     2  0.52876     1\n",
       "180           4    181          1     2  0.52081     1\n",
       "187           4    188          0     2  0.41441     1\n",
       "188           4    189          0     2  0.50323     1\n",
       "\n",
       "[84 rows x 6 columns]"
      ]
     },
     "execution_count": 53,
     "metadata": {},
     "output_type": "execute_result"
    }
   ],
   "source": [
    "file"
   ]
  },
  {
   "cell_type": "code",
   "execution_count": 57,
   "metadata": {},
   "outputs": [
    {
     "data": {
      "text/plain": [
       "Text(0, 0.5, 'RT')"
      ]
     },
     "execution_count": 57,
     "metadata": {},
     "output_type": "execute_result"
    },
    {
     "data": {
      "image/png": "[encoded data removed]",
      "text/plain": [
       "<Figure size 432x288 with 1 Axes>"
      ]
     },
     "metadata": {
      "needs_background": "dark"
     },
     "output_type": "display_data"
    }
   ],
   "source": [
    "file.plot.scatter(x = 'condition', y = 'RT')\n",
    "plt.xlabel('condition', color = 'white')\n",
    "plt.xticks([0, 1], ['incongruent', 'congruent'], color = 'white')\n",
    "plt.yticks(color = 'white')\n",
    "plt.ylabel('RT', color = 'white')"
   ]
  },
  {
   "cell_type": "code",
   "execution_count": 18,
   "metadata": {},
   "outputs": [],
   "source": [
    "# removing outlier function\n",
    "def remove_outliers(group):\n",
    "    mean = group['RT'].mean()\n",
    "    std_dev = group['RT'].std()\n",
    "    \n",
    "    # Creating a boolean mask to identify non-outliers\n",
    "    non_outliers = (group['RT'] >= mean - 3*std_dev) & (group['RT'] <= mean + 3*std_dev)\n",
    "    \n",
    "    # Using the boolean mask to filter the group\n",
    "    return group[non_outliers]"
   ]
  },
  {
   "cell_type": "code",
   "execution_count": 111,
   "metadata": {},
   "outputs": [
    {
     "name": "stdout",
     "output_type": "stream",
     "text": [
      "   condition        RT subject_id missing_values\n",
      "0          0  0.589768          3            3.0\n",
      "1          1  0.581273          3            0.0\n",
      "2          0  0.435825         11            5.0\n",
      "3          1  0.435965         11            1.0\n",
      "4          0  0.537559         13            2.0\n",
      "5          1  0.504904         13            3.0\n",
      "6          0  0.664593         15            1.0\n",
      "7          1  0.610628         15            1.0\n",
      "8          0  0.547451          1            2.0\n",
      "9          1  0.541481          1            1.0\n",
      "10         0  0.452668          5            0.0\n",
      "11         1  0.460098          5            4.0\n",
      "12         0  0.541002          7            3.0\n",
      "13         1  0.538229          7            1.0\n",
      "14         0  0.495949          9            1.0\n",
      "15         1  0.476212          9            2.0\n",
      "16         0  0.540587          2            2.0\n",
      "17         1  0.512475          2            0.0\n",
      "18         0  0.708818          4            6.0\n",
      "19         1  0.591316          4            6.0\n",
      "20         0  0.688681          6            4.0\n",
      "21         1  0.567413          6            2.0\n",
      "22         0  0.543435          8            1.0\n",
      "23         1  0.537829          8            3.0\n",
      "24         0  0.480379         10            5.0\n",
      "25         1  0.473366         10            1.0\n",
      "26         0  0.598228         12            9.0\n",
      "27         1  0.564716         12            1.0\n",
      "28         0  0.478683         14            4.0\n",
      "29         1  0.462952         14            1.0\n",
      "30         0  0.532595         16            7.0\n",
      "31         1  0.488658         16            2.0\n"
     ]
    }
   ],
   "source": [
    "# Creating a  DataFrame\n",
    "path = './results/'\n",
    "file_list = os.listdir(path)\n",
    "file_list_py = [file for file in file_list if file.endswith('.csv')]\n",
    "\n",
    "df = pd.DataFrame(columns=['condition', 'RT'])\n",
    "missing_array = []\n",
    "\n",
    "# for every csvs in exp results folder\n",
    "for i in file_list_py:\n",
    "    data = pd.read_csv(path + i, header = None)\n",
    "    subjdf = pd.DataFrame(data)\n",
    "    subjdf.columns = ['subject_id', 'trial', 'condition', 'resp', 'RT', 'corr']\n",
    "    full_values = subjdf['condition'].value_counts()\n",
    "    \n",
    "    # data pre-processing\n",
    "    drop_idx = subjdf[(subjdf['condition'] == 2) | (subjdf['corr'] == 0)].index\n",
    "    subjdf = subjdf.drop(drop_idx)\n",
    "    \n",
    "    subjdf = subjdf.groupby('condition').apply(remove_outliers).reset_index(drop=True)\n",
    "    missing_values = full_values - subjdf['condition'].value_counts()\n",
    "    missing_array.append(missing_values[0])\n",
    "    missing_array.append(missing_values[1])\n",
    "    \n",
    "    # append subject data to main data\n",
    "    conditions = subjdf['condition'].unique()\n",
    "    subject_id = str(subjdf['subject_id'].unique()[0])\n",
    "    for condition in conditions:\n",
    "         # Filtering the DataFrame based on the condition\n",
    "        condition_df = subjdf[subjdf['condition'] == condition]\n",
    "    \n",
    "        # Calculating the mean\n",
    "        cond_RT = condition_df['RT'].mean()\n",
    "    \n",
    "        # Appending the mean value to the empty DataFrame\n",
    "        df = df.append({'subject_id': subject_id, 'condition': condition, 'RT': cond_RT}, ignore_index=True)\n",
    "\n",
    "df['missing_values'] = missing_array\n",
    "df['missing_values'] = df['missing_values'].astype('category')\n",
    "print(df)"
   ]
  },
  {
   "cell_type": "code",
   "execution_count": 126,
   "metadata": {},
   "outputs": [
    {
     "data": {
      "image/png": "[encoded data removed]",
      "text/plain": [
       "<Figure size 432x576 with 1 Axes>"
      ]
     },
     "metadata": {
      "needs_background": "dark"
     },
     "output_type": "display_data"
    }
   ],
   "source": [
    "# Getting the unique subjects\n",
    "subjects = df['subject_id'].unique()\n",
    "\n",
    "# Creating a plot for each subject\n",
    "plt.figure(figsize=(6, 8))\n",
    "for subject in subjects:\n",
    "    subject_data = df[df['subject_id'] == subject]\n",
    "    plt.plot(subject_data['condition'], subject_data['RT'], label=f'Subject {subject}', color = 'gray')\n",
    "\n",
    "sns.boxplot(x='condition', y='RT', data = df)\n",
    "\n",
    "# Adding labels and title\n",
    "plt.xlabel('condition', color = 'white')\n",
    "plt.xticks([0, 1], ['incongruent', 'congruent'], color = 'white')\n",
    "plt.yticks(color = 'white')\n",
    "plt.ylabel('RT', color = 'white')\n",
    "\n",
    "# Displaying the plot\n",
    "plt.show()"
   ]
  },
  {
   "cell_type": "code",
   "execution_count": 116,
   "metadata": {},
   "outputs": [
    {
     "name": "stdout",
     "output_type": "stream",
     "text": [
      "          Mixed Linear Model Regression Results\n",
      "=========================================================\n",
      "Model:              MixedLM  Dependent Variable:  RT     \n",
      "No. Observations:   32       Method:              REML   \n",
      "No. Groups:         16       Scale:               0.0007 \n",
      "Min. group size:    2        Log-Likelihood:      44.4253\n",
      "Max. group size:    2        Converged:           Yes    \n",
      "Mean group size:    2.0                                  \n",
      "---------------------------------------------------------\n",
      "               Coef.  Std.Err.   z    P>|z| [0.025 0.975]\n",
      "---------------------------------------------------------\n",
      "Intercept       0.552    0.017 32.444 0.000  0.519  0.586\n",
      "condition[T.1] -0.031    0.010 -3.169 0.002 -0.049 -0.012\n",
      "Group Var       0.004    0.081                           \n",
      "=========================================================\n",
      "\n"
     ]
    },
    {
     "name": "stderr",
     "output_type": "stream",
     "text": [
      "C:\\Users\\user\\anaconda3\\lib\\site-packages\\statsmodels\\regression\\mixed_linear_model.py:2168: ConvergenceWarning: The MLE may be on the boundary of the parameter space.\n",
      "  warnings.warn(msg, ConvergenceWarning)\n"
     ]
    }
   ],
   "source": [
    "model = smf.mixedlm('RT ~ condition', df, groups = df['subject_id'])\n",
    "result = model.fit()\n",
    "print(result.summary())"
   ]
  },
  {
   "cell_type": "code",
   "execution_count": 122,
   "metadata": {},
   "outputs": [
    {
     "data": {
      "image/png": "[encoded data removed]",
      "text/plain": [
       "<Figure size 432x288 with 1 Axes>"
      ]
     },
     "metadata": {
      "needs_background": "light"
     },
     "output_type": "display_data"
    },
    {
     "name": "stdout",
     "output_type": "stream",
     "text": [
      "Shapiro-Wilk test statistic: 0.9264308214187622, p-value: 0.031179876998066902\n"
     ]
    }
   ],
   "source": [
    "residuals = result.resid\n",
    "plt.hist(residuals, bins=20, edgecolor='black')\n",
    "plt.title('Histogram of Residuals')\n",
    "plt.xlabel('Residuals')\n",
    "plt.ylabel('Frequency')\n",
    "plt.show()\n",
    "shapiro_test = stats.shapiro(residuals)\n",
    "print(f\"Shapiro-Wilk test statistic: {shapiro_test[0]}, p-value: {shapiro_test[1]}\")"
   ]
  },
  {
   "cell_type": "code",
   "execution_count": 113,
   "metadata": {},
   "outputs": [],
   "source": [
    "df.to_csv('test.csv', index=False)"
   ]
  }
 ],
 "metadata": {
  "kernelspec": {
   "display_name": "Python 3",
   "language": "python",
   "name": "python3"
  },
  "language_info": {
   "codemirror_mode": {
    "name": "ipython",
    "version": 3
   },
   "file_extension": ".py",
   "mimetype": "text/x-python",
   "name": "python",
   "nbconvert_exporter": "python",
   "pygments_lexer": "ipython3",
   "version": "3.8.5"
  }
 },
 "nbformat": 4,
 "nbformat_minor": 4
}
