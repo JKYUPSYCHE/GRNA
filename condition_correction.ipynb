{
 "cells": [
  {
   "cell_type": "code",
   "execution_count": 62,
   "metadata": {},
   "outputs": [],
   "source": [
    "import os\n",
    "import pandas as pd\n",
    "import numpy as np\n",
    "from scipy.io import loadmat"
   ]
  },
  {
   "cell_type": "code",
   "execution_count": 16,
   "metadata": {},
   "outputs": [],
   "source": [
    "path = './results/'"
   ]
  },
  {
   "cell_type": "code",
   "execution_count": 91,
   "metadata": {},
   "outputs": [],
   "source": [
    "# load bias condition csv\n",
    "condition_df = pd.read_csv('./resources/env_condition.csv')\n",
    "bias_df = pd.DataFrame()\n",
    "for b in range(1, 5):\n",
    "    bias_df['bias' + str(b)] = condition_df['bias' + str(b)]"
   ]
  },
  {
   "cell_type": "code",
   "execution_count": 108,
   "metadata": {
    "scrolled": true
   },
   "outputs": [],
   "source": [
    "# setup filenames\n",
    "file_list = os.listdir(path)\n",
    "fileNum = len([file for file in file_list if file.endswith('.csv')]) + 1"
   ]
  },
  {
   "cell_type": "code",
   "execution_count": 107,
   "metadata": {},
   "outputs": [
    {
     "name": "stderr",
     "output_type": "stream",
     "text": [
      "<ipython-input-107-c1bc4c2f2429>:28: SettingWithCopyWarning: \n",
      "A value is trying to be set on a copy of a slice from a DataFrame\n",
      "\n",
      "See the caveats in the documentation: https://pandas.pydata.org/pandas-docs/stable/user_guide/indexing.html#returning-a-view-versus-a-copy\n",
      "  data['condition'][t] = 2 # same\n",
      "<ipython-input-107-c1bc4c2f2429>:33: SettingWithCopyWarning: \n",
      "A value is trying to be set on a copy of a slice from a DataFrame\n",
      "\n",
      "See the caveats in the documentation: https://pandas.pydata.org/pandas-docs/stable/user_guide/indexing.html#returning-a-view-versus-a-copy\n",
      "  data['condition'][t] = 0 # incongruent\n",
      "<ipython-input-107-c1bc4c2f2429>:31: SettingWithCopyWarning: \n",
      "A value is trying to be set on a copy of a slice from a DataFrame\n",
      "\n",
      "See the caveats in the documentation: https://pandas.pydata.org/pandas-docs/stable/user_guide/indexing.html#returning-a-view-versus-a-copy\n",
      "  data['condition'][t] = 1 # congruent\n"
     ]
    }
   ],
   "source": [
    "for i in range(1, fileNum):\n",
    "    subjNum = i\n",
    "    data_name = [file for file in file_list if file.endswith('_' + str(i) + '.csv')][0]\n",
    "    mat_name  = [file for file in file_list if file.endswith('_' + str(i) + '.mat')][0]\n",
    "    \n",
    "    # load target datafile\n",
    "    data = pd.read_csv(path + data_name, header = None)\n",
    "    data.columns = ['subject_id', 'trial', 'condition', 'resp', 'RT', 'corr']\n",
    "    \n",
    "    # load tiralMat\n",
    "    mat = loadmat(path + mat_name)\n",
    "    trialMat = mat['trialMat']\n",
    "    trialMat = pd.DataFrame(trialMat)\n",
    "    trialMat.columns = ['stim1', 'stim2', 'condition']\n",
    "    trialN = len(trialMat)\n",
    "    \n",
    "    # load bias condition\n",
    "    bias_list = bias_df.iloc[subjNum - 1].tolist()\n",
    "    \n",
    "    for t in range(0, trialN):\n",
    "        stim1 = trialMat['stim1'][t] - 1\n",
    "        stim2 = trialMat['stim2'][t] - 1\n",
    "        \n",
    "        stim1_bias = bias_list[stim1]\n",
    "        stim2_bias = bias_list[stim2]\n",
    "        \n",
    "        #reasign conditons\n",
    "        if stim1 == stim2:\n",
    "            data['condition'][t] = 2     # same\n",
    "        else:\n",
    "            if stim1_bias == stim2_bias:\n",
    "                data['condition'][t] = 1 # congruent\n",
    "            else:\n",
    "                data['condition'][t] = 0 # incongruent\n",
    "    \n",
    "    # save to corrected datafiles\n",
    "    data.to_csv('./corrected_results/' + data_name, index=False)"
   ]
  }
 ],
 "metadata": {
  "kernelspec": {
   "display_name": "Python 3",
   "language": "python",
   "name": "python3"
  },
  "language_info": {
   "codemirror_mode": {
    "name": "ipython",
    "version": 3
   },
   "file_extension": ".py",
   "mimetype": "text/x-python",
   "name": "python",
   "nbconvert_exporter": "python",
   "pygments_lexer": "ipython3",
   "version": "3.8.5"
  }
 },
 "nbformat": 4,
 "nbformat_minor": 4
}
